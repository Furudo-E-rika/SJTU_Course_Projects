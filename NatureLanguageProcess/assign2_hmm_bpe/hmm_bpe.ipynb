{
 "cells": [
  {
   "cell_type": "markdown",
   "id": "0a7a16ed",
   "metadata": {},
   "source": [
    "## 任务一：HMM模型用于中文分词"
   ]
  },
  {
   "cell_type": "markdown",
   "id": "030d9a94",
   "metadata": {},
   "source": [
    "任务一评分标准：\n",
    "1. 共有8处TODO需要填写，每个TODO计1-2分，共9分，预计代码量30行；\n",
    "2. 允许自行修改、编写代码完成，对于该情况，请补充注释以便于评分，否则结果不正确将导致较多的扣分；\n",
    "3. 实验报告(python)/用于说明实验的文字块(jupyter notebook)不额外计分，但不写会导致扣分。\n",
    "\n",
    "注：本任务仅在短句子上进行效果测试，因此对概率的计算可直接进行连乘。在实践中，常先对概率取对数，将连乘变为加法来计算，以避免出现数值溢出的情况。"
   ]
  },
  {
   "cell_type": "markdown",
   "id": "f7d77db9",
   "metadata": {},
   "source": [
    "导入HMM参数，初始化所需的起始概率矩阵，转移概率矩阵，发射概率矩阵"
   ]
  },
  {
   "cell_type": "code",
   "execution_count": 20,
   "id": "b36e0db8",
   "metadata": {},
   "outputs": [],
   "source": [
    "import pickle\n",
    "import numpy as np"
   ]
  },
  {
   "cell_type": "code",
   "execution_count": 21,
   "id": "0d25beba",
   "metadata": {},
   "outputs": [],
   "source": [
    "with open(\"hmm_parameters.pkl\", \"rb\") as f:\n",
    "    hmm_parameters = pickle.load(f)\n",
    "\n",
    "# 非断字（B）为第0行，断字（I）为第1行\n",
    "# 发射概率矩阵中，词典大小为65536，以汉字的ord作为行key\n",
    "start_probability = hmm_parameters[\"start_prob\"]  # shape(2,)\n",
    "trans_matrix = hmm_parameters[\"trans_mat\"]  # shape(2, 2)\n",
    "emission_matrix = hmm_parameters[\"emission_mat\"]  # shape(2, 65536)"
   ]
  },
  {
   "cell_type": "markdown",
   "id": "f7070152",
   "metadata": {},
   "source": [
    "定义待处理的句子"
   ]
  },
  {
   "cell_type": "code",
   "execution_count": 22,
   "id": "87219e30",
   "metadata": {},
   "outputs": [],
   "source": [
    "# TODO: 将input_sentence中的xxx替换为你的姓名（1分）\n",
    "input_sentence = \"柳纪宇是一名优秀的学生\"\n"
   ]
  },
  {
   "cell_type": "markdown",
   "id": "1035cbc7",
   "metadata": {},
   "source": [
    "实现viterbi算法，并以此进行中文分词"
   ]
  },
  {
   "cell_type": "markdown",
   "id": "603bedc6",
   "metadata": {},
   "source": [
    "viterbi算法实现过程：\n",
    "\n",
    "TODO1:  将第一个位置的最大概率值定义为初始概率和发射概率的乘积。\n",
    "\n",
    "TODO2:  接着依次更新位置为i（从1到len(sent_ord)-1的整数）的最大概率值矩阵和path矩阵的值。更新位置i状态h的最大概率值（dp[h][i]）的方法为比较上个位置为0和上个位置为1的概率（dp[0][i-1]和d[1][i-1]）与转移到0的转移概率（trans_mat[0][h]和trans_mat[1][h]）的乘积大小，将乘积更大者乘以该位置的发射概率（emission_mat[h][send_ord[i]]）赋给该位置的最大概率值，并将path[h][i]置为概率更大的乘积对应的上个位置的状态值。\n",
    "\n",
    "TODO3:  以i为索引遍历dp[0][i]与dp[1][i]，比较二者大小，将较大者的状态设置为labels[i]的值。"
   ]
  },
  {
   "cell_type": "code",
   "execution_count": 23,
   "id": "1adac849",
   "metadata": {},
   "outputs": [],
   "source": [
    "def viterbi(sent_orig, start_prob, trans_mat, emission_mat):\n",
    "    \"\"\"\n",
    "    viterbi算法进行中文分词\n",
    "\n",
    "    Args:\n",
    "        sent_orig: str - 输入的句子\n",
    "        start_prob: numpy.ndarray - 起始概率矩阵\n",
    "        trans_mat: numpy.ndarray - 转移概率矩阵\n",
    "        emission_mat: numpy.ndarray - 发射概率矩阵\n",
    "\n",
    "    Return:\n",
    "        str - 中文分词的结果\n",
    "    \"\"\"\n",
    "    \n",
    "    #  将汉字转为数字表示\n",
    "    sent_ord = [ord(x) for x in sent_orig]\n",
    "    \n",
    "    # `dp`用来储存不同位置每种标注（B/I）的最大概率值\n",
    "    dp = np.zeros((2, len(sent_ord)), dtype=float)\n",
    "    \n",
    "    # `path`用来储存最大概率对应的上步B/I选择\n",
    "    #  例如 path[1][7] == 1 意味着第8个（从1开始计数）字符标注I对应的最大概率，其前一步的隐状态为1（I）\n",
    "    #  例如 path[0][5] == 1 意味着第6个字符标注B对应的最大概率，其前一步的隐状态为1（I）\n",
    "    #  例如 path[1][1] == 0 意味着第2个字符标注I对应的最大概率，其前一步的隐状态为0（B）\n",
    "    path = np.zeros((2, len(sent_ord)), dtype=int)\n",
    "    \n",
    "    #  TODO: 第一个位置的最大概率值计算（1分）\n",
    "    dp[0][0] = start_prob[0] * emission_mat[0][sent_ord[0]]\n",
    "    dp[1][0] = start_prob[1] * emission_mat[1][sent_ord[0]]\n",
    "    if (dp[0][0] > dp[1][0]):\n",
    "        path[0][0] = 1\n",
    "    else:\n",
    "        path[1][0] = 1\n",
    "    \n",
    "    #  TODO: 其余位置的最大概率值计算（填充dp和path矩阵）（2分）\n",
    "    for i in range(1, len(sent_ord)):\n",
    "        # 通过比较第i-1个词状态为0与状态为1时计算得到的第i个词状态为0时的最大概率值大小，更新dp和path矩阵在第i个词上的值\n",
    "        if (dp[0][i-1] * trans_mat[0][0] * emission_mat[0][sent_ord[i]] > dp[1][i-1] * trans_mat[1][0] * emission_mat[0][sent_ord[i]]):\n",
    "            dp[0][i] = dp[0][i-1] * trans_mat[0][0] * emission_mat[0][sent_ord[i]]\n",
    "            path[0][i] = 0\n",
    "        else:\n",
    "            dp[0][i] = dp[1][i-1] * trans_mat[1][0] * emission_mat[0][sent_ord[i]]\n",
    "            path[0][i] = 1\n",
    "        \n",
    "        if (dp[0][i-1] * trans_mat[0][1] * emission_mat[1][sent_ord[i]] > dp[1][i-1] * trans_mat[1][1] * emission_mat[1][sent_ord[i]]):\n",
    "            dp[1][i] = dp[0][i-1] * trans_mat[0][1] * emission_mat[1][sent_ord[i]]\n",
    "            path[1][i] = 0\n",
    "        else:\n",
    "            dp[1][i] = dp[1][i-1] * trans_mat[1][1] * emission_mat[1][sent_ord[i]]\n",
    "            path[1][i] = 1\n",
    "        \n",
    "    \n",
    "    #  `labels`用来储存每个位置最有可能的隐状态\n",
    "    labels = [0 for _ in range(len(sent_ord))]\n",
    "    \n",
    "    #  TODO：计算labels每个位置上的值（填充labels矩阵）（1分）\n",
    "    for i in range(len(labels)):\n",
    "        if (dp[0][i] > dp[1][i]):\n",
    "            labels[i] = 0\n",
    "        else:\n",
    "            labels[i] = 1\n",
    "    \n",
    "    #  根据lalels生成切分好的字符串\n",
    "    sent_split = []\n",
    "    for idx, label in enumerate(labels):\n",
    "        if label == 1:\n",
    "            sent_split += [sent_ord[idx], ord(\"/\")]\n",
    "        else:\n",
    "            sent_split += [sent_ord[idx]]\n",
    "    sent_split_str = \"\".join([chr(x) for x in sent_split])\n",
    "\n",
    "    return sent_split_str\n",
    "            "
   ]
  },
  {
   "cell_type": "code",
   "execution_count": 24,
   "id": "d795414b",
   "metadata": {},
   "outputs": [
    {
     "name": "stdout",
     "output_type": "stream",
     "text": [
      "viterbi算法分词结果： 柳纪/宇是/一名/优秀/的/学生/\n"
     ]
    }
   ],
   "source": [
    "print(\"viterbi算法分词结果：\", viterbi(input_sentence, start_probability, trans_matrix, emission_matrix))"
   ]
  },
  {
   "cell_type": "markdown",
   "id": "60fcafdb",
   "metadata": {},
   "source": [
    "实现前向算法，计算该句子的概率值"
   ]
  },
  {
   "cell_type": "markdown",
   "id": "c1042dbb",
   "metadata": {},
   "source": [
    "前向算法实现过程：\n",
    "\n",
    "TODO1： 将初始位置概率值定义为初始概率与发射概率的乘积。\n",
    "\n",
    "TODO2:  依次更新位置i（从1到len(sent_ord)-1的整数）的最大概率矩阵值。更新位置i状态h的最大概率值（dp[h][i]）的方法为遍历上个位置的所有状态，将所有状态(k)对应的最大概率值（dp[k][i-1]）乘以对应的转移概率（trans_mat[k][h]）再乘以相应的发射概率（emission_mat[h][sent_ord[i]]）进行累加并将结果赋给dp[h][i]。\n"
   ]
  },
  {
   "cell_type": "code",
   "execution_count": 25,
   "id": "cf6796a1",
   "metadata": {},
   "outputs": [],
   "source": [
    "def compute_prob_by_forward(sent_orig, start_prob, trans_mat, emission_mat):\n",
    "    \"\"\"\n",
    "    前向算法，计算输入中文句子的概率值\n",
    "\n",
    "    Args:\n",
    "        sent_orig: str - 输入的句子\n",
    "        start_prob: numpy.ndarray - 起始概率矩阵\n",
    "        trans_mat: numpy.ndarray - 转移概率矩阵\n",
    "        emission_mat: numpy.ndarray - 发射概率矩阵\n",
    "\n",
    "    Return:\n",
    "        float - 概率值\n",
    "    \"\"\"\n",
    "    \n",
    "    #  将汉字转为数字表示\n",
    "    sent_ord = [ord(x) for x in sent_orig]\n",
    "\n",
    "    # `dp`用来储存不同位置每种隐状态（B/I）下，到该位置为止的句子的概率\n",
    "    dp = np.zeros((2, len(sent_ord)), dtype=float)\n",
    "\n",
    "    # TODO: 初始位置概率的计算（1分）\n",
    "    dp[0][0] = start_prob[0] * emission_mat[0][sent_ord[0]]\n",
    "    dp[1][0] = start_prob[1] * emission_mat[1][sent_ord[0]]\n",
    "    \n",
    "    # TODO: 先计算其余位置的概率（填充dp矩阵），然后return概率值（1分）\n",
    "    for i in range(1, len(sent_ord)):\n",
    "        dp[0][i] = dp[0][i-1] * trans_mat[0][0] * emission_mat[0][sent_ord[i]] + dp[1][i-1] * trans_mat[1][0] * emission_mat[0][sent_ord[i]]\n",
    "        dp[1][i] = dp[0][i-1] * trans_mat[0][1] * emission_mat[1][sent_ord[i]] + dp[1][i-1] * trans_mat[1][1] * emission_mat[1][sent_ord[i]]\n",
    "\n",
    "    return sum([dp[i][len(sent_ord)-1] for i in range(2)])"
   ]
  },
  {
   "cell_type": "markdown",
   "id": "59533cd8",
   "metadata": {},
   "source": [
    "实现后向算法，计算该句子的概率值"
   ]
  },
  {
   "cell_type": "markdown",
   "id": "ddbc2fbf",
   "metadata": {},
   "source": [
    "后向算法实现流程：\n",
    "\n",
    "TODO1:  将终末位置的概率初始化为1.（这是因为终末位置一定为终止符<\\/s>）\n",
    "\n",
    "TODO2:  依次更新位置i（从len(sent_ord)-2到0的整数）的最大概率矩阵值。更新位置i状态h的最大概率值（dp[h][i]）的方法为遍历下个位置的所有状态，将所有状态(k)对应的最大概率值（dp[k][i+1]）乘以对应的转移概率（trans_mat[h][k]）再乘以相应的发射概率（emission_mat[k][sent_ord[i+1]]）进行累加并将结果赋给dp[h][i]。\n"
   ]
  },
  {
   "cell_type": "code",
   "execution_count": 26,
   "id": "1e898306",
   "metadata": {},
   "outputs": [],
   "source": [
    "def compute_prob_by_backward(sent_orig, start_prob, trans_mat, emission_mat):\n",
    "    \"\"\"\n",
    "    后向算法，计算输入中文句子的概率值\n",
    "\n",
    "    Args:\n",
    "        sent_orig: str - 输入的句子\n",
    "        start_prob: numpy.ndarray - 起始概率矩阵\n",
    "        trans_mat: numpy.ndarray - 转移概率矩阵\n",
    "        emission_mat: numpy.ndarray - 发射概率矩阵\n",
    "\n",
    "    Return:\n",
    "        float - 概率值\n",
    "    \"\"\"\n",
    "    \n",
    "    #  将汉字转为数字表示\n",
    "    sent_ord = [ord(x) for x in sent_orig]\n",
    "\n",
    "    # `dp`用来储存不同位置每种隐状态（B/I）下，从结尾到该位置为止的句子的概率\n",
    "    dp = np.zeros((2, len(sent_ord)), dtype=float)\n",
    "\n",
    "    # TODO: 终末位置概率的初始化（1分）\n",
    "    dp[0][len(sent_ord)-1] = 1\n",
    "    dp[1][len(sent_ord)-1] = 1\n",
    "    \n",
    "    # TODO: 先计算其余位置的概率（填充dp矩阵），然后return概率值（1分）\n",
    "    for i in reversed(range(len(sent_ord)-1)):\n",
    "        \n",
    "        dp[0][i] = dp[0][i+1] * trans_mat[0][0] * emission_mat[0][sent_ord[i+1]] + dp[1][i+1] * trans_mat[0][1] * emission_mat[1][sent_ord[i+1]]\n",
    "        dp[1][i] = dp[0][i+1] * trans_mat[1][0] * emission_mat[0][sent_ord[i+1]] + dp[1][i+1] * trans_mat[1][1] * emission_mat[1][sent_ord[i+1]]\n",
    "\n",
    "    return sum([dp[i][0] * start_prob[i] * emission_mat[i][sent_ord[0]] for i in range(2)])"
   ]
  },
  {
   "cell_type": "code",
   "execution_count": 27,
   "id": "b26101d0",
   "metadata": {},
   "outputs": [
    {
     "name": "stdout",
     "output_type": "stream",
     "text": [
      "前向算法概率： 4.2486728942315935e-34\n",
      "后向算法概率： 4.248672894231593e-34\n"
     ]
    }
   ],
   "source": [
    "print(\"前向算法概率：\", compute_prob_by_forward(input_sentence, start_probability, trans_matrix, emission_matrix))\n",
    "print(\"后向算法概率：\", compute_prob_by_backward(input_sentence, start_probability, trans_matrix, emission_matrix))"
   ]
  },
  {
   "cell_type": "markdown",
   "id": "e994be6e",
   "metadata": {},
   "source": [
    "## 任务二：BPE算法用于英文分词"
   ]
  },
  {
   "cell_type": "markdown",
   "id": "c1cc4775",
   "metadata": {},
   "source": [
    "任务二评分标准：\n",
    "\n",
    "1. 共有7处TODO需要填写，每个TODO计1-2分，共9分，预计代码量50行；\n",
    "2. 允许自行修改、编写代码完成，对于该情况，请补充注释以便于评分，否则结果不正确将导致较多的扣分；\n",
    "3. 实验报告(python)/用于说明实验的文字块(jupyter notebook)不额外计分，但不写会导致扣分。"
   ]
  },
  {
   "cell_type": "markdown",
   "id": "0fb5dbb9",
   "metadata": {},
   "source": [
    "构建空格分词器，将语料中的句子以空格切分成单词，然后将单词拆分成字母加`</w>`的形式。例如`apple`将变为`a p p l e </w>`。"
   ]
  },
  {
   "cell_type": "code",
   "execution_count": 28,
   "id": "70e10703",
   "metadata": {},
   "outputs": [],
   "source": [
    "import re\n",
    "import functools"
   ]
  },
  {
   "cell_type": "code",
   "execution_count": 29,
   "id": "d6c3667a",
   "metadata": {},
   "outputs": [],
   "source": [
    "_splitor_pattern = re.compile(r\"[^a-zA-Z']+|(?=')\")\n",
    "_digit_pattern = re.compile(r\"\\d+\")\n",
    "\n",
    "def white_space_tokenize(corpus):\n",
    "    \"\"\"\n",
    "    先正则化（字母转小写、数字转为N、除去标点符号），然后以空格分词语料中的句子，例如：\n",
    "    输入 corpus=[\"I am happy.\", \"I have 10 apples!\"]，\n",
    "    得到 [[\"i\", \"am\", \"happy\"], [\"i\", \"have\", \"N\", \"apples\"]]\n",
    "\n",
    "    Args:\n",
    "        corpus: List[str] - 待处理的语料\n",
    "\n",
    "    Return:\n",
    "        List[List[str]] - 二维List，内部的List由每个句子的单词str构成\n",
    "    \"\"\"\n",
    "\n",
    "    tokeneds = [list(\n",
    "        filter(lambda tkn: len(tkn)>0, _splitor_pattern.split(_digit_pattern.sub(\"N\", stc.lower())))) for stc in corpus\n",
    "    ]\n",
    "    \n",
    "    return tokeneds"
   ]
  },
  {
   "cell_type": "markdown",
   "id": "3732502a",
   "metadata": {},
   "source": [
    "编写相应函数构建BPE算法需要用到的初始状态词典"
   ]
  },
  {
   "cell_type": "markdown",
   "id": "febbf853",
   "metadata": {},
   "source": [
    "初始状态词典的实现方法为遍历tokenized_corpus中的每一个词列表，将单词拆分为字母间以空格隔开且结尾带有<\\/w>的字符串。若字典中已存在该key值，则将其对应的value值加1；若字典中不存在该key值，则将该key值加入词典并将其value设为1。"
   ]
  },
  {
   "cell_type": "code",
   "execution_count": 30,
   "id": "7bf823e2",
   "metadata": {},
   "outputs": [],
   "source": [
    "def build_bpe_vocab(corpus):\n",
    "    \"\"\"\n",
    "    将语料进行white_space_tokenize处理后，将单词每个字母以空格隔开、结尾加上</w>后，构建带频数的字典，例如：\n",
    "    输入 corpus=[\"I am happy.\", \"I have 10 apples!\"]，\n",
    "    得到\n",
    "    {\n",
    "        'i </w>': 2,\n",
    "        'a m </w>': 1,\n",
    "        'h a p p y </w>': 1,\n",
    "        'h a v e </w>': 1,\n",
    "        'N </w>': 1,\n",
    "        'a p p l e s </w>': 1\n",
    "     }\n",
    "\n",
    "    Args:\n",
    "        corpus: List[str] - 待处理的语料\n",
    "\n",
    "    Return:\n",
    "        Dict[str, int] - \"单词分词状态->频数\"的词典\n",
    "    \"\"\"\n",
    "\n",
    "    tokenized_corpus = white_space_tokenize(corpus)\n",
    "\n",
    "    bpe_vocab = dict()\n",
    "    \n",
    "    # TODO: 完成函数体（1分）\n",
    "    for sentence in tokenized_corpus:\n",
    "        for word in sentence:\n",
    "            list_alpha = list(word)\n",
    "            split_word = ''\n",
    "            for alpha in list_alpha:\n",
    "                split_word += alpha\n",
    "                split_word += ' '\n",
    "            split_word += '</w>'\n",
    "\n",
    "            if split_word in bpe_vocab:\n",
    "                bpe_vocab[split_word] += 1\n",
    "            else:\n",
    "                bpe_vocab[split_word] = 1\n",
    "            \n",
    "    return bpe_vocab"
   ]
  },
  {
   "cell_type": "markdown",
   "id": "b1d25245",
   "metadata": {},
   "source": [
    "编写所需的其他函数"
   ]
  },
  {
   "cell_type": "markdown",
   "id": "e06ac445",
   "metadata": {},
   "source": [
    "bigram字典的实现方法：\n",
    "\n",
    "提取bpe_vocab中的keys和values，将它们转换成list类型，接着以空格为分隔符对list中的每个词进行split操作，遍历得到的列表，将两个字母组成一个元组。若字典中已存在该key值，则将其对应的value加上该词对应的频率值；若不存在该key值，则将该key值加入词典并将对应value设置成该词对应的频率。\n",
    "\n"
   ]
  },
  {
   "cell_type": "code",
   "execution_count": 31,
   "id": "087d11e2",
   "metadata": {},
   "outputs": [],
   "source": [
    "def get_bigram_freq(bpe_vocab):\n",
    "    \"\"\"\n",
    "    统计\"单词分词状态->频数\"的词典中，各bigram的频次（假设该词典中，各个unigram以空格间隔），例如：\n",
    "    输入 bpe_vocab=\n",
    "    {\n",
    "        'i </w>': 2,\n",
    "        'a m </w>': 1,\n",
    "        'h a p p y </w>': 1,\n",
    "        'h a v e </w>': 1,\n",
    "        'N </w>': 1,\n",
    "        'a p p l e s </w>': 1\n",
    "    }\n",
    "    得到\n",
    "    {\n",
    "        ('i', '</w>'): 2,\n",
    "        ('a', 'm'): 1,\n",
    "        ('m', '</w>'): 1,\n",
    "        ('h', 'a'): 2,\n",
    "        ('a', 'p'): 2,\n",
    "        ('p', 'p'): 2,\n",
    "        ('p', 'y'): 1,\n",
    "        ('y', '</w>'): 1,\n",
    "        ('a', 'v'): 1,\n",
    "        ('v', 'e'): 1,\n",
    "        ('e', '</w>'): 1,\n",
    "        ('N', '</w>'): 1,\n",
    "        ('p', 'l'): 1,\n",
    "        ('l', 'e'): 1,\n",
    "        ('e', 's'): 1,\n",
    "        ('s', '</w>'): 1\n",
    "    }\n",
    "\n",
    "    Args:\n",
    "        bpe_vocab: Dict[str, int] - \"单词分词状态->频数\"的词典\n",
    "\n",
    "    Return:\n",
    "        Dict[Tuple(str, str), int] - \"bigram->频数\"的词典\n",
    "    \"\"\"\n",
    "\n",
    "    bigram_freq = dict()\n",
    "    \n",
    "    # TODO: 完成函数体（1分）\n",
    "    words = list(bpe_vocab.keys())\n",
    "    frequencies = list(bpe_vocab.values())\n",
    "    for i in range(len(words)):\n",
    "        alpha_list = words[i].split(' ')\n",
    "        for alpha_i in range(len(alpha_list)-1):\n",
    "            alpha_tuple = (alpha_list[alpha_i], alpha_list[alpha_i+1])\n",
    "            if alpha_tuple in bigram_freq:\n",
    "                bigram_freq[alpha_tuple] += frequencies[i]\n",
    "            else:\n",
    "                bigram_freq[alpha_tuple] = frequencies[i]\n",
    "    return bigram_freq"
   ]
  },
  {
   "cell_type": "markdown",
   "id": "3b7e0e48",
   "metadata": {},
   "source": [
    "合并指定的bigram的实现方法：\n",
    "\n",
    "提取old_bpe_vocab中的keys和values，将它们转换成list类型，以空格为分隔符对list中的每个词进行split操作，遍历得到的列表。若列表中的连续两个元素正好是bigram中的前后两个元素，则生成的新词的过程中去掉中间的空格；否则依照原样将字母和空格写入新词。将得到的新词列表和原先的频率重新组合成字典类型输出。"
   ]
  },
  {
   "cell_type": "code",
   "execution_count": 32,
   "id": "ba426043",
   "metadata": {},
   "outputs": [],
   "source": [
    "def refresh_bpe_vocab_by_merging_bigram(bigram, old_bpe_vocab):\n",
    "    \"\"\"\n",
    "    在\"单词分词状态->频数\"的词典中，合并指定的bigram（即去掉对应的相邻unigram之间的空格），最后返回新的词典，例如：\n",
    "    输入 bigram=('i', '</w>')，old_bpe_vocab=\n",
    "    {\n",
    "        'i </w>': 2,\n",
    "        'a m </w>': 1,\n",
    "        'h a p p y </w>': 1,\n",
    "        'h a v e </w>': 1,\n",
    "        'N </w>': 1,\n",
    "        'a p p l e s </w>': 1\n",
    "    }\n",
    "    得到\n",
    "    {\n",
    "        'i</w>': 2,\n",
    "        'a m </w>': 1,\n",
    "        'h a p p y </w>': 1,\n",
    "        'h a v e </w>': 1,\n",
    "        'N </w>': 1,\n",
    "        'a p p l e s </w>': 1\n",
    "    }\n",
    "\n",
    "    Args:\n",
    "        old_bpe_vocab: Dict[str, int] - 初始\"单词分词状态->频数\"的词典\n",
    "\n",
    "    Return:\n",
    "        Dict[str, int] - 合并后的\"单词分词状态->频数\"的词典\n",
    "    \"\"\"\n",
    "    \n",
    "    new_bpe_vocab = dict()\n",
    "\n",
    "    # TODO: 完成函数体（1分）\n",
    "    words = list(old_bpe_vocab.keys())\n",
    "    frequencies = list(old_bpe_vocab.values())\n",
    "    for i in range(len(words)):\n",
    "        oldstr = bigram[0] + ' ' + bigram[1]\n",
    "        newstr = bigram[0] + bigram[1]\n",
    "        if oldstr in words[i]:\n",
    "            words[i] = words[i].replace(oldstr, newstr)\n",
    "\n",
    "\n",
    "    new_bpe_vocab = dict(map(lambda x,y:[x,y], words, frequencies))\n",
    "    \n",
    "    \n",
    "    return new_bpe_vocab"
   ]
  },
  {
   "cell_type": "markdown",
   "id": "5ed44b25",
   "metadata": {},
   "source": [
    "BPE分词列表的实现方法：\n",
    "\n",
    "首先创建一个新的字典（bpe_dic），用与之前相同的方式拆分bpe_vocab的keys和values，遍历keys中的每个词，将分词对应的频率添加到字典中。将字典转换为元素为元组的列表类型，以元组第0个元素的长度为key值进行排序（若该分词中含有'<\\/w>'，由于其只算做一个长度，故要在原有长度的基础上减三），返回得到的结果。"
   ]
  },
  {
   "cell_type": "code",
   "execution_count": 33,
   "id": "992438a1",
   "metadata": {},
   "outputs": [],
   "source": [
    "def get_bpe_tokens(bpe_vocab):\n",
    "    \"\"\"\n",
    "    根据\"单词分词状态->频数\"的词典，返回所得到的BPE分词列表，并将该列表按照分词长度降序排序返回，例如：\n",
    "    输入 bpe_vocab=\n",
    "    {\n",
    "        'i</w>': 2,\n",
    "        'a m </w>': 1,\n",
    "        'ha pp y </w>': 1,\n",
    "        'ha v e </w>': 1,\n",
    "        'N </w>': 1,\n",
    "        'a pp l e s </w>': 1\n",
    "    }\n",
    "    得到\n",
    "    [\n",
    "        ('i</w>', 2),\n",
    "        ('ha', 2),\n",
    "        ('pp', 2),\n",
    "        ('a', 2),\n",
    "        ('m', 1),\n",
    "        ('</w>', 5),\n",
    "        ('y', 1),\n",
    "        ('v', 1),\n",
    "        ('e', 2),\n",
    "        ('N', 1),\n",
    "        ('l', 1),\n",
    "        ('s', 1)\n",
    "     ]\n",
    "\n",
    "    Args:\n",
    "        bpe_vocab: Dict[str, int] - \"单词分词状态->频数\"的词典\n",
    "\n",
    "    Return:\n",
    "        List[Tuple(str, int)] - BPE分词和对应频数组成的List\n",
    "    \"\"\"\n",
    "    \n",
    "    # TODO: 完成函数体（2分）\n",
    "    bpe_tokens = []\n",
    "    bpe_dic = {}\n",
    "    words = list(bpe_vocab.keys())\n",
    "    frequencies = list(bpe_vocab.values())\n",
    "\n",
    "\n",
    "    for i in range(len(words)):\n",
    "        alpha_list = words[i].split(' ')\n",
    "        for alpha in alpha_list:\n",
    "            if alpha in bpe_dic:\n",
    "                bpe_dic[alpha] += frequencies[i]\n",
    "            else:\n",
    "                bpe_dic[alpha] = frequencies[i]\n",
    "    \n",
    "    \n",
    "\n",
    "    bpe_tokens = list(bpe_dic.items())\n",
    "    bpe_tokens = sorted(bpe_tokens, key= lambda s:len(s[0])-3 if '</w>' in s[0] else len(s[0]), reverse=True)\n",
    "\n",
    "    \n",
    "\n",
    "    return bpe_tokens"
   ]
  },
  {
   "cell_type": "markdown",
   "id": "500fb97f",
   "metadata": {},
   "source": [
    "对所给单词进行BPE分词的实现方法：\n",
    "\n",
    "首先对输入单词的长度进行判别，若长度为0则返回空字符。接着从列表中寻找BPE分词进行子串匹配，若成功匹配，则递归地匹配该字符左边和右边的剩余部分，将二者与匹配子串相加并返回。若最终没能找到匹配的分词，则返回'\\<unknown>'。"
   ]
  },
  {
   "cell_type": "code",
   "execution_count": 34,
   "id": "3c56995e",
   "metadata": {},
   "outputs": [],
   "source": [
    "def print_bpe_tokenize(word, bpe_tokens):\n",
    "    \"\"\"\n",
    "    根据按长度降序的BPE分词列表，将所给单词进行BPE分词，最后打印结果。\n",
    "    \n",
    "    思想是，对于一个待BPE分词的单词，按照长度顺序从列表中寻找BPE分词进行子串匹配，\n",
    "    若成功匹配，则对该子串左右的剩余部分递归地进行下一轮匹配，直到剩余部分长度为0，\n",
    "    或者剩余部分无法匹配（该部分整体由\"<unknown>\"代替）\n",
    "    \n",
    "    例1：\n",
    "    输入 word=\"supermarket\", bpe_tokens=[\n",
    "        (\"su\", 20),\n",
    "        (\"are\", 10),\n",
    "        (\"per\", 30),\n",
    "    ]\n",
    "    最终打印 \"su per <unknown>\"\n",
    "\n",
    "    例2：\n",
    "    输入 word=\"shanghai\", bpe_tokens=[\n",
    "        (\"hai\", 1),\n",
    "        (\"sh\", 1),\n",
    "        (\"an\", 1),\n",
    "        (\"</w>\", 1),\n",
    "        (\"g\", 1)\n",
    "    ]\n",
    "    最终打印 \"sh an g hai </w>\"\n",
    "\n",
    "    Args:\n",
    "        word: str - 待分词的单词str\n",
    "        bpe_tokens: List[Tuple(str, int)] - BPE分词和对应频数组成的List\n",
    "    \"\"\"\n",
    "    \n",
    "    # TODO: 请尝试使用递归函数定义该分词过程（2分）\n",
    "\n",
    "    def bpe_tokenize(sub_word):\n",
    "        find = False\n",
    "        for token in bpe_tokens:\n",
    "            if len(sub_word) == 0:\n",
    "                return ''\n",
    "            if token[0] in sub_word:\n",
    "                word = sub_word.split(token[0])\n",
    "                left_word = word[0]\n",
    "                right_word = word[1]\n",
    "                find = True\n",
    "                return bpe_tokenize(left_word) + token[0] + ' ' + bpe_tokenize(right_word)\n",
    "        if find == False:\n",
    "            return '<unknown>'\n",
    "            \n",
    "\n",
    "\n",
    "    res = bpe_tokenize(word+\"</w>\")\n",
    "    print(res)"
   ]
  },
  {
   "cell_type": "markdown",
   "id": "ecd70402",
   "metadata": {},
   "source": [
    "开始读取数据集并训练BPE分词器"
   ]
  },
  {
   "cell_type": "code",
   "execution_count": 35,
   "id": "215b56d5",
   "metadata": {},
   "outputs": [
    {
     "name": "stdout",
     "output_type": "stream",
     "text": [
      "Loaded training corpus.\n"
     ]
    }
   ],
   "source": [
    "with open(\"data/news.2007.en.shuffled.deduped.train\", encoding=\"utf-8\") as f:\n",
    "    training_corpus = list(map(lambda l: l.strip(), f.readlines()[:1000]))\n",
    "\n",
    "print(\"Loaded training corpus.\")"
   ]
  },
  {
   "cell_type": "markdown",
   "id": "1658f2bf",
   "metadata": {},
   "source": [
    "训练循环的实现过程为：\n",
    "\n",
    "首先通过调用get_bigram_freq函数获取词表中每个bigram的频次，接着取其中频次最大的一个bigram，最后调用refresh_bpe_vocab_by_merging_bigram函数进行分词合并。迭 代达到training_iter_num时停止训练。"
   ]
  },
  {
   "cell_type": "code",
   "execution_count": 45,
   "id": "7bccd41d",
   "metadata": {},
   "outputs": [],
   "source": [
    "training_iter_num = 300\n",
    "\n",
    "training_bpe_vocab = build_bpe_vocab(training_corpus)\n",
    "for i in range(training_iter_num):\n",
    "    # TODO: 完成训练循环内的代码逻辑（2分）\n",
    "    bigram_freq = get_bigram_freq(training_bpe_vocab)\n",
    "    top_bigram = max(bigram_freq.items(), key=lambda d:d[1])[0]\n",
    "    \n",
    "    training_bpe_vocab = refresh_bpe_vocab_by_merging_bigram(top_bigram, training_bpe_vocab)\n",
    "\n",
    "\n",
    "\n",
    "training_bpe_tokens = get_bpe_tokens(training_bpe_vocab)"
   ]
  },
  {
   "cell_type": "markdown",
   "id": "78ea3ddd",
   "metadata": {},
   "source": [
    "测试BPE分词器的分词效果"
   ]
  },
  {
   "cell_type": "code",
   "execution_count": 46,
   "id": "c0cfdb29",
   "metadata": {},
   "outputs": [
    {
     "name": "stdout",
     "output_type": "stream",
     "text": [
      "naturallanguageprocessing 的分词结果为：\n",
      "n atur al lan gu age pro ce s sing</w> \n"
     ]
    }
   ],
   "source": [
    "test_word = \"naturallanguageprocessing\"\n",
    "\n",
    "print(\"naturallanguageprocessing 的分词结果为：\")\n",
    "print_bpe_tokenize(test_word, training_bpe_tokens)"
   ]
  }
 ],
 "metadata": {
  "kernelspec": {
   "display_name": "Python 3.8.13 ('ox')",
   "language": "python",
   "name": "python3"
  },
  "language_info": {
   "codemirror_mode": {
    "name": "ipython",
    "version": 3
   },
   "file_extension": ".py",
   "mimetype": "text/x-python",
   "name": "python",
   "nbconvert_exporter": "python",
   "pygments_lexer": "ipython3",
   "version": "3.8.13"
  },
  "vscode": {
   "interpreter": {
    "hash": "2416e4fe6ad35e923dfeb1d776a83cc630c28a91844e4bc69c3e449d61140dfc"
   }
  }
 },
 "nbformat": 4,
 "nbformat_minor": 5
}
